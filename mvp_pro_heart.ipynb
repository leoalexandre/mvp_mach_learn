{
  "nbformat": 4,
  "nbformat_minor": 0,
  "metadata": {
    "colab": {
      "provenance": [],
      "toc_visible": true,
      "authorship_tag": "ABX9TyMmMjUrTcOC5c3025HECJDJ",
      "include_colab_link": true
    },
    "kernelspec": {
      "name": "python3",
      "display_name": "Python 3"
    },
    "language_info": {
      "name": "python"
    }
  },
  "cells": [
    {
      "cell_type": "markdown",
      "metadata": {
        "id": "view-in-github",
        "colab_type": "text"
      },
      "source": [
        "<a href=\"https://colab.research.google.com/github/leoalexandre/mvp_mach_learn/blob/main/mvp_pro_heart.ipynb\" target=\"_parent\"><img src=\"https://colab.research.google.com/assets/colab-badge.svg\" alt=\"Open In Colab\"/></a>"
      ]
    },
    {
      "cell_type": "markdown",
      "source": [
        "# **PUC-Rio**\n",
        "# Pós Graduação em Ciências de Dados e Analytics\n",
        "# Sprint: Machine Learning & Analytics\n",
        "# Leonardo Alexandre"
      ],
      "metadata": {
        "id": "5i3kUf7uxEtM"
      }
    },
    {
      "cell_type": "markdown",
      "source": [
        "##**1.   Definição do Problema**"
      ],
      "metadata": {
        "id": "dwsBliYRxIjj"
      }
    },
    {
      "cell_type": "markdown",
      "source": [
        "\n",
        "\n",
        "As doenças cardiovasculares são umas das principais causas de morte no mundo. \"Estima-se que 17,9 milhões de pessoas morreram por doenças cardiovasculares em 2016, representando 31% de todas as mortes em nível global. Destes óbitos, estima-se que 85% ocorrem devido a ataques cardíacos e acidentes vasculares cerebrais (AVCs).\"\n",
        "O foco deste mvp é treinar modelos de machine learning para diagnosticar uma doença cardiáca caso exista.\n",
        "O dataset foi retirado do site abaixo:\n",
        "\n",
        "https://archive.ics.uci.edu/dataset/45/heart+disease\n",
        "\n",
        "A partir de quatro conjunto de dados (Cleveland, Hungary, Switzerland, e the VA Long Beach), foi construído um único dataset. Esse dataset consiste na junção dos quatro datasets citados anteriormente. Cada um destes dataset utiliza 14 atributos com dados de pacientes. Esses atributos são os mesmos que foram pré-selecionados e disponibilizados no banco de dados pelo próprio site da UCI.\n",
        "\n",
        "Informação sobre atributos:\n",
        "\n",
        "  1. **Age** - idade\n",
        "  2. **Sex** - sexo (1 = homem; 0 = mulher)\n",
        "  3. **cp** - tipo de dor no peito\n",
        "\n",
        "      *Valor 1* : angina típica\n",
        "\n",
        "      *Valor 2* : angina atípica\n",
        "\n",
        "      *Valor 3* : dor não anginosa\n",
        "\n",
        "      *Valor 4* : assintomático\n",
        "\n",
        "  4. **trestbps** - tensão arterial em repouso (em mm/Hg)\n",
        "  5. **chol** - colesterol sérico em mg/dl\n",
        "  6. **fbs** - glicemia em jejum > 120 mg/dl\n",
        "  \n",
        "      *Valor 1* : verdadeiro\n",
        "\n",
        "      *Valor 0* : falso\n",
        "\n",
        "  7. **restecg** - resultados electrocardiográficos em repouso\n",
        "\n",
        "      *Valor 0* : normal\n",
        "\n",
        "      *Valor 1* : com anomalia da onda ST-T (T inversões de onda e/ou elevação ou depressão de ST > 0.05 mV)\n",
        "\n",
        "      *Valor 2* : com provável ou definitiva hipertrofia ventricular esquerda\n",
        "\n",
        "  8. **thalach** - frequência cardíaca máxima atingida\n",
        "  9. **exang** - angina induzida pelo exercício\n",
        "\n",
        "       *Valor 1* : sim\n",
        "\n",
        "       *Valor 0* : não\n",
        "\n",
        "  10. **oldpeak** - Depressão ST induzida pelo exercício comparado ao repouso\n",
        "  11. **slope** - a inclinação do segmento ST de pico do exercício\n",
        "\n",
        "         *Valor 1* : ascendente\n",
        "\n",
        "         *Valor 2* : reto\n",
        "\n",
        "         *Valor 3* : descendente\n",
        "\n",
        "  12. **ca** - número de vasos principais coloridos por fluroscopia (0-3)\n",
        "  13. **thal** - 3 = normal; 6 = defeito corrigido; 7 = defeito reversível\n",
        "  14. **num** - diagnóstico de doença cardíaca a partir do estado angiográfico da doença\n",
        "\n",
        "      0 : Sem doença cardíaca; paciente saudável\n",
        "\n",
        "      1-4 : Presença de doença cardíaca\n",
        "\n",
        "      1 : Doença cardíaca leve\n",
        "\n",
        "      2 : Doença cardíaca ligeiramente grave\n",
        "\n",
        "      3 : Doença muito grave\n",
        "\n",
        "      4 : Doença cardíaca possivelmente fatal"
      ],
      "metadata": {
        "id": "qWa3wmKRxMCi"
      }
    },
    {
      "cell_type": "code",
      "source": [
        "# configuração para não exibir os warnings\n",
        "import warnings\n",
        "warnings.filterwarnings(\"ignore\")\n",
        "\n",
        "# Imports necessários\n",
        "import pandas as pd\n",
        "import numpy as np\n",
        "import matplotlib.pyplot as plt\n",
        "import seaborn as sns\n",
        "from sklearn.model_selection import train_test_split # para particionar em bases de treino e teste (holdout)\n",
        "from sklearn.metrics import confusion_matrix # para fazer matriz de confusão\n",
        "from sklearn.metrics import classification_report\n",
        "from sklearn.model_selection import KFold # para preparar os folds da validação cruzada\n",
        "from sklearn.model_selection import cross_val_score # para executar a validação cruzada\n",
        "from sklearn.model_selection import GridSearchCV # para ajustar paramêtros automaticamente do modelo\n",
        "from sklearn.metrics import accuracy_score # para exibição da acurácia do modelo\n",
        "from sklearn.pipeline import Pipeline\n",
        "from sklearn.neighbors import KNeighborsClassifier # Algoritmo de KNN\n",
        "from sklearn.tree import DecisionTreeClassifier # algoritmo Árvore de Classificação\n",
        "from sklearn.naive_bayes import GaussianNB # algoritmo Naive Bayes\n",
        "from sklearn.svm import SVR # Algoritmo de SVM\n",
        "from sklearn.preprocessing import StandardScaler # função de pre processamento para padronizar\n",
        "from sklearn.preprocessing import MinMaxScaler # função de pre processamento para normalizar\n",
        "from sklearn.metrics import mean_squared_error # métrica de avaliação MSE\n",
        "from sklearn.linear_model import LinearRegression # algoritmo Regressão Linear\n",
        "from sklearn.linear_model import Ridge # algoritmo Regularização Ridge\n",
        "from sklearn.linear_model import Lasso # algoritmo Regularização Lasso\n",
        "from sklearn.neighbors import KNeighborsRegressor # algoritmo KNN\n",
        "from sklearn.tree import DecisionTreeRegressor # algoritmo Árvore de Regressão"
      ],
      "metadata": {
        "id": "OH16htAsyb-k"
      },
      "execution_count": 133,
      "outputs": []
    },
    {
      "cell_type": "code",
      "source": [
        "# Url a importar\n",
        "url = 'https://raw.githubusercontent.com/leoalexandre/mvp_mach_learn/main/data_set_heart_disease.csv'\n",
        "\n",
        "# Labels dos atributos do dataset\n",
        "labels_atributos = ['age','sex','cp','trestbps','chol','fbs','restecg','thalach','exang','oldpeak','slope','ca','thal','num']\n",
        "\n",
        "# Carga do dataset através do csv\n",
        "dataset = pd.read_csv(url, delimiter=',', names=labels_atributos, skiprows=0)\n",
        "\n",
        "# Subtituindo os ? por 0\n",
        "dataset=dataset.replace('?',0)\n",
        "\n",
        "# Verifica o tipo de dado\n",
        "print(type(dataset))"
      ],
      "metadata": {
        "colab": {
          "base_uri": "https://localhost:8080/"
        },
        "id": "n8KmBFRYyjAb",
        "outputId": "5aab911b-a586-4ff9-ddd8-5d51a40756b7"
      },
      "execution_count": 134,
      "outputs": [
        {
          "output_type": "stream",
          "name": "stdout",
          "text": [
            "<class 'pandas.core.frame.DataFrame'>\n"
          ]
        }
      ]
    },
    {
      "cell_type": "markdown",
      "source": [
        "## **2. Visualização dos Dados**"
      ],
      "metadata": {
        "id": "JhfSLgqDT83G"
      }
    },
    {
      "cell_type": "markdown",
      "source": [
        "A seguir serão exibidas algumas informações do dataset."
      ],
      "metadata": {
        "id": "PljZX7weUMSY"
      }
    },
    {
      "cell_type": "code",
      "source": [
        "# Mostra a parte inicial do dataset e seus atributos\n",
        "dataset.head(10)"
      ],
      "metadata": {
        "colab": {
          "base_uri": "https://localhost:8080/",
          "height": 363
        },
        "id": "Z4Q0FETAyxDD",
        "outputId": "5d05ba4c-c514-4588-ac5b-df1b252f89b8"
      },
      "execution_count": 135,
      "outputs": [
        {
          "output_type": "execute_result",
          "data": {
            "text/plain": [
              "    age  sex   cp trestbps   chol  fbs restecg thalach exang oldpeak slope  \\\n",
              "0  63.0  1.0  1.0    145.0  233.0  1.0     2.0   150.0   0.0     2.3   3.0   \n",
              "1  67.0  1.0  4.0    160.0  286.0  0.0     2.0   108.0   1.0     1.5   2.0   \n",
              "2  67.0  1.0  4.0    120.0  229.0  0.0     2.0   129.0   1.0     2.6   2.0   \n",
              "3  37.0  1.0  3.0    130.0  250.0  0.0     0.0   187.0   0.0     3.5   3.0   \n",
              "4  41.0  0.0  2.0    130.0  204.0  0.0     2.0   172.0   0.0     1.4   1.0   \n",
              "5  56.0  1.0  2.0    120.0  236.0  0.0     0.0   178.0   0.0     0.8   1.0   \n",
              "6  62.0  0.0  4.0    140.0  268.0  0.0     2.0   160.0   0.0     3.6   3.0   \n",
              "7  57.0  0.0  4.0    120.0  354.0  0.0     0.0   163.0   1.0     0.6   1.0   \n",
              "8  63.0  1.0  4.0    130.0  254.0  0.0     2.0   147.0   0.0     1.4   2.0   \n",
              "9  53.0  1.0  4.0    140.0  203.0  1.0     2.0   155.0   1.0     3.1   3.0   \n",
              "\n",
              "    ca thal  num  \n",
              "0  0.0  6.0    0  \n",
              "1  3.0  3.0    2  \n",
              "2  2.0  7.0    1  \n",
              "3  0.0  3.0    0  \n",
              "4  0.0  3.0    0  \n",
              "5  0.0  3.0    0  \n",
              "6  2.0  3.0    3  \n",
              "7  0.0  3.0    0  \n",
              "8  1.0  7.0    2  \n",
              "9  0.0  7.0    1  "
            ],
            "text/html": [
              "\n",
              "  <div id=\"df-303a6a35-3476-4164-9008-2ba4f7ef0afb\" class=\"colab-df-container\">\n",
              "    <div>\n",
              "<style scoped>\n",
              "    .dataframe tbody tr th:only-of-type {\n",
              "        vertical-align: middle;\n",
              "    }\n",
              "\n",
              "    .dataframe tbody tr th {\n",
              "        vertical-align: top;\n",
              "    }\n",
              "\n",
              "    .dataframe thead th {\n",
              "        text-align: right;\n",
              "    }\n",
              "</style>\n",
              "<table border=\"1\" class=\"dataframe\">\n",
              "  <thead>\n",
              "    <tr style=\"text-align: right;\">\n",
              "      <th></th>\n",
              "      <th>age</th>\n",
              "      <th>sex</th>\n",
              "      <th>cp</th>\n",
              "      <th>trestbps</th>\n",
              "      <th>chol</th>\n",
              "      <th>fbs</th>\n",
              "      <th>restecg</th>\n",
              "      <th>thalach</th>\n",
              "      <th>exang</th>\n",
              "      <th>oldpeak</th>\n",
              "      <th>slope</th>\n",
              "      <th>ca</th>\n",
              "      <th>thal</th>\n",
              "      <th>num</th>\n",
              "    </tr>\n",
              "  </thead>\n",
              "  <tbody>\n",
              "    <tr>\n",
              "      <th>0</th>\n",
              "      <td>63.0</td>\n",
              "      <td>1.0</td>\n",
              "      <td>1.0</td>\n",
              "      <td>145.0</td>\n",
              "      <td>233.0</td>\n",
              "      <td>1.0</td>\n",
              "      <td>2.0</td>\n",
              "      <td>150.0</td>\n",
              "      <td>0.0</td>\n",
              "      <td>2.3</td>\n",
              "      <td>3.0</td>\n",
              "      <td>0.0</td>\n",
              "      <td>6.0</td>\n",
              "      <td>0</td>\n",
              "    </tr>\n",
              "    <tr>\n",
              "      <th>1</th>\n",
              "      <td>67.0</td>\n",
              "      <td>1.0</td>\n",
              "      <td>4.0</td>\n",
              "      <td>160.0</td>\n",
              "      <td>286.0</td>\n",
              "      <td>0.0</td>\n",
              "      <td>2.0</td>\n",
              "      <td>108.0</td>\n",
              "      <td>1.0</td>\n",
              "      <td>1.5</td>\n",
              "      <td>2.0</td>\n",
              "      <td>3.0</td>\n",
              "      <td>3.0</td>\n",
              "      <td>2</td>\n",
              "    </tr>\n",
              "    <tr>\n",
              "      <th>2</th>\n",
              "      <td>67.0</td>\n",
              "      <td>1.0</td>\n",
              "      <td>4.0</td>\n",
              "      <td>120.0</td>\n",
              "      <td>229.0</td>\n",
              "      <td>0.0</td>\n",
              "      <td>2.0</td>\n",
              "      <td>129.0</td>\n",
              "      <td>1.0</td>\n",
              "      <td>2.6</td>\n",
              "      <td>2.0</td>\n",
              "      <td>2.0</td>\n",
              "      <td>7.0</td>\n",
              "      <td>1</td>\n",
              "    </tr>\n",
              "    <tr>\n",
              "      <th>3</th>\n",
              "      <td>37.0</td>\n",
              "      <td>1.0</td>\n",
              "      <td>3.0</td>\n",
              "      <td>130.0</td>\n",
              "      <td>250.0</td>\n",
              "      <td>0.0</td>\n",
              "      <td>0.0</td>\n",
              "      <td>187.0</td>\n",
              "      <td>0.0</td>\n",
              "      <td>3.5</td>\n",
              "      <td>3.0</td>\n",
              "      <td>0.0</td>\n",
              "      <td>3.0</td>\n",
              "      <td>0</td>\n",
              "    </tr>\n",
              "    <tr>\n",
              "      <th>4</th>\n",
              "      <td>41.0</td>\n",
              "      <td>0.0</td>\n",
              "      <td>2.0</td>\n",
              "      <td>130.0</td>\n",
              "      <td>204.0</td>\n",
              "      <td>0.0</td>\n",
              "      <td>2.0</td>\n",
              "      <td>172.0</td>\n",
              "      <td>0.0</td>\n",
              "      <td>1.4</td>\n",
              "      <td>1.0</td>\n",
              "      <td>0.0</td>\n",
              "      <td>3.0</td>\n",
              "      <td>0</td>\n",
              "    </tr>\n",
              "    <tr>\n",
              "      <th>5</th>\n",
              "      <td>56.0</td>\n",
              "      <td>1.0</td>\n",
              "      <td>2.0</td>\n",
              "      <td>120.0</td>\n",
              "      <td>236.0</td>\n",
              "      <td>0.0</td>\n",
              "      <td>0.0</td>\n",
              "      <td>178.0</td>\n",
              "      <td>0.0</td>\n",
              "      <td>0.8</td>\n",
              "      <td>1.0</td>\n",
              "      <td>0.0</td>\n",
              "      <td>3.0</td>\n",
              "      <td>0</td>\n",
              "    </tr>\n",
              "    <tr>\n",
              "      <th>6</th>\n",
              "      <td>62.0</td>\n",
              "      <td>0.0</td>\n",
              "      <td>4.0</td>\n",
              "      <td>140.0</td>\n",
              "      <td>268.0</td>\n",
              "      <td>0.0</td>\n",
              "      <td>2.0</td>\n",
              "      <td>160.0</td>\n",
              "      <td>0.0</td>\n",
              "      <td>3.6</td>\n",
              "      <td>3.0</td>\n",
              "      <td>2.0</td>\n",
              "      <td>3.0</td>\n",
              "      <td>3</td>\n",
              "    </tr>\n",
              "    <tr>\n",
              "      <th>7</th>\n",
              "      <td>57.0</td>\n",
              "      <td>0.0</td>\n",
              "      <td>4.0</td>\n",
              "      <td>120.0</td>\n",
              "      <td>354.0</td>\n",
              "      <td>0.0</td>\n",
              "      <td>0.0</td>\n",
              "      <td>163.0</td>\n",
              "      <td>1.0</td>\n",
              "      <td>0.6</td>\n",
              "      <td>1.0</td>\n",
              "      <td>0.0</td>\n",
              "      <td>3.0</td>\n",
              "      <td>0</td>\n",
              "    </tr>\n",
              "    <tr>\n",
              "      <th>8</th>\n",
              "      <td>63.0</td>\n",
              "      <td>1.0</td>\n",
              "      <td>4.0</td>\n",
              "      <td>130.0</td>\n",
              "      <td>254.0</td>\n",
              "      <td>0.0</td>\n",
              "      <td>2.0</td>\n",
              "      <td>147.0</td>\n",
              "      <td>0.0</td>\n",
              "      <td>1.4</td>\n",
              "      <td>2.0</td>\n",
              "      <td>1.0</td>\n",
              "      <td>7.0</td>\n",
              "      <td>2</td>\n",
              "    </tr>\n",
              "    <tr>\n",
              "      <th>9</th>\n",
              "      <td>53.0</td>\n",
              "      <td>1.0</td>\n",
              "      <td>4.0</td>\n",
              "      <td>140.0</td>\n",
              "      <td>203.0</td>\n",
              "      <td>1.0</td>\n",
              "      <td>2.0</td>\n",
              "      <td>155.0</td>\n",
              "      <td>1.0</td>\n",
              "      <td>3.1</td>\n",
              "      <td>3.0</td>\n",
              "      <td>0.0</td>\n",
              "      <td>7.0</td>\n",
              "      <td>1</td>\n",
              "    </tr>\n",
              "  </tbody>\n",
              "</table>\n",
              "</div>\n",
              "    <div class=\"colab-df-buttons\">\n",
              "\n",
              "  <div class=\"colab-df-container\">\n",
              "    <button class=\"colab-df-convert\" onclick=\"convertToInteractive('df-303a6a35-3476-4164-9008-2ba4f7ef0afb')\"\n",
              "            title=\"Convert this dataframe to an interactive table.\"\n",
              "            style=\"display:none;\">\n",
              "\n",
              "  <svg xmlns=\"http://www.w3.org/2000/svg\" height=\"24px\" viewBox=\"0 -960 960 960\">\n",
              "    <path d=\"M120-120v-720h720v720H120Zm60-500h600v-160H180v160Zm220 220h160v-160H400v160Zm0 220h160v-160H400v160ZM180-400h160v-160H180v160Zm440 0h160v-160H620v160ZM180-180h160v-160H180v160Zm440 0h160v-160H620v160Z\"/>\n",
              "  </svg>\n",
              "    </button>\n",
              "\n",
              "  <style>\n",
              "    .colab-df-container {\n",
              "      display:flex;\n",
              "      gap: 12px;\n",
              "    }\n",
              "\n",
              "    .colab-df-convert {\n",
              "      background-color: #E8F0FE;\n",
              "      border: none;\n",
              "      border-radius: 50%;\n",
              "      cursor: pointer;\n",
              "      display: none;\n",
              "      fill: #1967D2;\n",
              "      height: 32px;\n",
              "      padding: 0 0 0 0;\n",
              "      width: 32px;\n",
              "    }\n",
              "\n",
              "    .colab-df-convert:hover {\n",
              "      background-color: #E2EBFA;\n",
              "      box-shadow: 0px 1px 2px rgba(60, 64, 67, 0.3), 0px 1px 3px 1px rgba(60, 64, 67, 0.15);\n",
              "      fill: #174EA6;\n",
              "    }\n",
              "\n",
              "    .colab-df-buttons div {\n",
              "      margin-bottom: 4px;\n",
              "    }\n",
              "\n",
              "    [theme=dark] .colab-df-convert {\n",
              "      background-color: #3B4455;\n",
              "      fill: #D2E3FC;\n",
              "    }\n",
              "\n",
              "    [theme=dark] .colab-df-convert:hover {\n",
              "      background-color: #434B5C;\n",
              "      box-shadow: 0px 1px 3px 1px rgba(0, 0, 0, 0.15);\n",
              "      filter: drop-shadow(0px 1px 2px rgba(0, 0, 0, 0.3));\n",
              "      fill: #FFFFFF;\n",
              "    }\n",
              "  </style>\n",
              "\n",
              "    <script>\n",
              "      const buttonEl =\n",
              "        document.querySelector('#df-303a6a35-3476-4164-9008-2ba4f7ef0afb button.colab-df-convert');\n",
              "      buttonEl.style.display =\n",
              "        google.colab.kernel.accessAllowed ? 'block' : 'none';\n",
              "\n",
              "      async function convertToInteractive(key) {\n",
              "        const element = document.querySelector('#df-303a6a35-3476-4164-9008-2ba4f7ef0afb');\n",
              "        const dataTable =\n",
              "          await google.colab.kernel.invokeFunction('convertToInteractive',\n",
              "                                                    [key], {});\n",
              "        if (!dataTable) return;\n",
              "\n",
              "        const docLinkHtml = 'Like what you see? Visit the ' +\n",
              "          '<a target=\"_blank\" href=https://colab.research.google.com/notebooks/data_table.ipynb>data table notebook</a>'\n",
              "          + ' to learn more about interactive tables.';\n",
              "        element.innerHTML = '';\n",
              "        dataTable['output_type'] = 'display_data';\n",
              "        await google.colab.output.renderOutput(dataTable, element);\n",
              "        const docLink = document.createElement('div');\n",
              "        docLink.innerHTML = docLinkHtml;\n",
              "        element.appendChild(docLink);\n",
              "      }\n",
              "    </script>\n",
              "  </div>\n",
              "\n",
              "\n",
              "<div id=\"df-aa80cbe6-c069-4bb9-8083-5b8961e5c80a\">\n",
              "  <button class=\"colab-df-quickchart\" onclick=\"quickchart('df-aa80cbe6-c069-4bb9-8083-5b8961e5c80a')\"\n",
              "            title=\"Suggest charts\"\n",
              "            style=\"display:none;\">\n",
              "\n",
              "<svg xmlns=\"http://www.w3.org/2000/svg\" height=\"24px\"viewBox=\"0 0 24 24\"\n",
              "     width=\"24px\">\n",
              "    <g>\n",
              "        <path d=\"M19 3H5c-1.1 0-2 .9-2 2v14c0 1.1.9 2 2 2h14c1.1 0 2-.9 2-2V5c0-1.1-.9-2-2-2zM9 17H7v-7h2v7zm4 0h-2V7h2v10zm4 0h-2v-4h2v4z\"/>\n",
              "    </g>\n",
              "</svg>\n",
              "  </button>\n",
              "\n",
              "<style>\n",
              "  .colab-df-quickchart {\n",
              "      --bg-color: #E8F0FE;\n",
              "      --fill-color: #1967D2;\n",
              "      --hover-bg-color: #E2EBFA;\n",
              "      --hover-fill-color: #174EA6;\n",
              "      --disabled-fill-color: #AAA;\n",
              "      --disabled-bg-color: #DDD;\n",
              "  }\n",
              "\n",
              "  [theme=dark] .colab-df-quickchart {\n",
              "      --bg-color: #3B4455;\n",
              "      --fill-color: #D2E3FC;\n",
              "      --hover-bg-color: #434B5C;\n",
              "      --hover-fill-color: #FFFFFF;\n",
              "      --disabled-bg-color: #3B4455;\n",
              "      --disabled-fill-color: #666;\n",
              "  }\n",
              "\n",
              "  .colab-df-quickchart {\n",
              "    background-color: var(--bg-color);\n",
              "    border: none;\n",
              "    border-radius: 50%;\n",
              "    cursor: pointer;\n",
              "    display: none;\n",
              "    fill: var(--fill-color);\n",
              "    height: 32px;\n",
              "    padding: 0;\n",
              "    width: 32px;\n",
              "  }\n",
              "\n",
              "  .colab-df-quickchart:hover {\n",
              "    background-color: var(--hover-bg-color);\n",
              "    box-shadow: 0 1px 2px rgba(60, 64, 67, 0.3), 0 1px 3px 1px rgba(60, 64, 67, 0.15);\n",
              "    fill: var(--button-hover-fill-color);\n",
              "  }\n",
              "\n",
              "  .colab-df-quickchart-complete:disabled,\n",
              "  .colab-df-quickchart-complete:disabled:hover {\n",
              "    background-color: var(--disabled-bg-color);\n",
              "    fill: var(--disabled-fill-color);\n",
              "    box-shadow: none;\n",
              "  }\n",
              "\n",
              "  .colab-df-spinner {\n",
              "    border: 2px solid var(--fill-color);\n",
              "    border-color: transparent;\n",
              "    border-bottom-color: var(--fill-color);\n",
              "    animation:\n",
              "      spin 1s steps(1) infinite;\n",
              "  }\n",
              "\n",
              "  @keyframes spin {\n",
              "    0% {\n",
              "      border-color: transparent;\n",
              "      border-bottom-color: var(--fill-color);\n",
              "      border-left-color: var(--fill-color);\n",
              "    }\n",
              "    20% {\n",
              "      border-color: transparent;\n",
              "      border-left-color: var(--fill-color);\n",
              "      border-top-color: var(--fill-color);\n",
              "    }\n",
              "    30% {\n",
              "      border-color: transparent;\n",
              "      border-left-color: var(--fill-color);\n",
              "      border-top-color: var(--fill-color);\n",
              "      border-right-color: var(--fill-color);\n",
              "    }\n",
              "    40% {\n",
              "      border-color: transparent;\n",
              "      border-right-color: var(--fill-color);\n",
              "      border-top-color: var(--fill-color);\n",
              "    }\n",
              "    60% {\n",
              "      border-color: transparent;\n",
              "      border-right-color: var(--fill-color);\n",
              "    }\n",
              "    80% {\n",
              "      border-color: transparent;\n",
              "      border-right-color: var(--fill-color);\n",
              "      border-bottom-color: var(--fill-color);\n",
              "    }\n",
              "    90% {\n",
              "      border-color: transparent;\n",
              "      border-bottom-color: var(--fill-color);\n",
              "    }\n",
              "  }\n",
              "</style>\n",
              "\n",
              "  <script>\n",
              "    async function quickchart(key) {\n",
              "      const quickchartButtonEl =\n",
              "        document.querySelector('#' + key + ' button');\n",
              "      quickchartButtonEl.disabled = true;  // To prevent multiple clicks.\n",
              "      quickchartButtonEl.classList.add('colab-df-spinner');\n",
              "      try {\n",
              "        const charts = await google.colab.kernel.invokeFunction(\n",
              "            'suggestCharts', [key], {});\n",
              "      } catch (error) {\n",
              "        console.error('Error during call to suggestCharts:', error);\n",
              "      }\n",
              "      quickchartButtonEl.classList.remove('colab-df-spinner');\n",
              "      quickchartButtonEl.classList.add('colab-df-quickchart-complete');\n",
              "    }\n",
              "    (() => {\n",
              "      let quickchartButtonEl =\n",
              "        document.querySelector('#df-aa80cbe6-c069-4bb9-8083-5b8961e5c80a button');\n",
              "      quickchartButtonEl.style.display =\n",
              "        google.colab.kernel.accessAllowed ? 'block' : 'none';\n",
              "    })();\n",
              "  </script>\n",
              "</div>\n",
              "\n",
              "    </div>\n",
              "  </div>\n"
            ],
            "application/vnd.google.colaboratory.intrinsic+json": {
              "type": "dataframe",
              "variable_name": "dataset",
              "summary": "{\n  \"name\": \"dataset\",\n  \"rows\": 920,\n  \"fields\": [\n    {\n      \"column\": \"age\",\n      \"properties\": {\n        \"dtype\": \"number\",\n        \"std\": 9.424685209576857,\n        \"min\": 28.0,\n        \"max\": 77.0,\n        \"num_unique_values\": 50,\n        \"samples\": [\n          64.0,\n          74.0,\n          39.0\n        ],\n        \"semantic_type\": \"\",\n        \"description\": \"\"\n      }\n    },\n    {\n      \"column\": \"sex\",\n      \"properties\": {\n        \"dtype\": \"number\",\n        \"std\": 0.4081478432714873,\n        \"min\": 0.0,\n        \"max\": 1.0,\n        \"num_unique_values\": 2,\n        \"samples\": [\n          0.0,\n          1.0\n        ],\n        \"semantic_type\": \"\",\n        \"description\": \"\"\n      }\n    },\n    {\n      \"column\": \"cp\",\n      \"properties\": {\n        \"dtype\": \"number\",\n        \"std\": 0.9309688168655602,\n        \"min\": 1.0,\n        \"max\": 4.0,\n        \"num_unique_values\": 4,\n        \"samples\": [\n          4.0,\n          2.0\n        ],\n        \"semantic_type\": \"\",\n        \"description\": \"\"\n      }\n    },\n    {\n      \"column\": \"trestbps\",\n      \"properties\": {\n        \"dtype\": \"category\",\n        \"num_unique_values\": 103,\n        \"samples\": [\n          \"165.0\",\n          \"132\"\n        ],\n        \"semantic_type\": \"\",\n        \"description\": \"\"\n      }\n    },\n    {\n      \"column\": \"chol\",\n      \"properties\": {\n        \"dtype\": \"category\",\n        \"num_unique_values\": 335,\n        \"samples\": [\n          \"340.0\",\n          \"293.0\"\n        ],\n        \"semantic_type\": \"\",\n        \"description\": \"\"\n      }\n    },\n    {\n      \"column\": \"fbs\",\n      \"properties\": {\n        \"dtype\": \"category\",\n        \"num_unique_values\": 5,\n        \"samples\": [\n          \"0.0\",\n          \"1\"\n        ],\n        \"semantic_type\": \"\",\n        \"description\": \"\"\n      }\n    },\n    {\n      \"column\": \"restecg\",\n      \"properties\": {\n        \"dtype\": \"category\",\n        \"num_unique_values\": 7,\n        \"samples\": [\n          \"2.0\",\n          \"0.0\"\n        ],\n        \"semantic_type\": \"\",\n        \"description\": \"\"\n      }\n    },\n    {\n      \"column\": \"thalach\",\n      \"properties\": {\n        \"dtype\": \"category\",\n        \"num_unique_values\": 198,\n        \"samples\": [\n          \"126.0\",\n          \"138\"\n        ],\n        \"semantic_type\": \"\",\n        \"description\": \"\"\n      }\n    },\n    {\n      \"column\": \"exang\",\n      \"properties\": {\n        \"dtype\": \"category\",\n        \"num_unique_values\": 5,\n        \"samples\": [\n          \"1.0\",\n          0\n        ],\n        \"semantic_type\": \"\",\n        \"description\": \"\"\n      }\n    },\n    {\n      \"column\": \"oldpeak\",\n      \"properties\": {\n        \"dtype\": \"category\",\n        \"num_unique_values\": 67,\n        \"samples\": [\n          \"3.8\",\n          \"0.2\"\n        ],\n        \"semantic_type\": \"\",\n        \"description\": \"\"\n      }\n    },\n    {\n      \"column\": \"slope\",\n      \"properties\": {\n        \"dtype\": \"category\",\n        \"num_unique_values\": 7,\n        \"samples\": [\n          \"3.0\",\n          \"2.0\"\n        ],\n        \"semantic_type\": \"\",\n        \"description\": \"\"\n      }\n    },\n    {\n      \"column\": \"ca\",\n      \"properties\": {\n        \"dtype\": \"category\",\n        \"num_unique_values\": 8,\n        \"samples\": [\n          \"3.0\",\n          \"0\"\n        ],\n        \"semantic_type\": \"\",\n        \"description\": \"\"\n      }\n    },\n    {\n      \"column\": \"thal\",\n      \"properties\": {\n        \"dtype\": \"category\",\n        \"num_unique_values\": 7,\n        \"samples\": [\n          \"6.0\",\n          \"3.0\"\n        ],\n        \"semantic_type\": \"\",\n        \"description\": \"\"\n      }\n    },\n    {\n      \"column\": \"num\",\n      \"properties\": {\n        \"dtype\": \"number\",\n        \"std\": 1,\n        \"min\": 0,\n        \"max\": 4,\n        \"num_unique_values\": 5,\n        \"samples\": [\n          2,\n          4\n        ],\n        \"semantic_type\": \"\",\n        \"description\": \"\"\n      }\n    }\n  ]\n}"
            }
          },
          "metadata": {},
          "execution_count": 135
        }
      ]
    },
    {
      "cell_type": "code",
      "source": [
        "# Mostra as dimensões do dataset\n",
        "print(dataset.shape)"
      ],
      "metadata": {
        "colab": {
          "base_uri": "https://localhost:8080/"
        },
        "id": "99mtV9cqzAcz",
        "outputId": "8bb1c0e9-1c35-40d2-adc1-55603cc59426"
      },
      "execution_count": 128,
      "outputs": [
        {
          "output_type": "stream",
          "name": "stdout",
          "text": [
            "(920, 14)\n"
          ]
        }
      ]
    },
    {
      "cell_type": "code",
      "source": [
        "# Mostra as informações dos atributos do dataset\n",
        "dataset.info()"
      ],
      "metadata": {
        "colab": {
          "base_uri": "https://localhost:8080/"
        },
        "id": "Bhg9F8T5Uz_Y",
        "outputId": "60f5beef-5ca8-4bc2-aa89-cf6a87371009"
      },
      "execution_count": 138,
      "outputs": [
        {
          "output_type": "stream",
          "name": "stdout",
          "text": [
            "<class 'pandas.core.frame.DataFrame'>\n",
            "RangeIndex: 920 entries, 0 to 919\n",
            "Data columns (total 14 columns):\n",
            " #   Column    Non-Null Count  Dtype  \n",
            "---  ------    --------------  -----  \n",
            " 0   age       920 non-null    float64\n",
            " 1   sex       920 non-null    float64\n",
            " 2   cp        920 non-null    float64\n",
            " 3   trestbps  920 non-null    object \n",
            " 4   chol      920 non-null    object \n",
            " 5   fbs       920 non-null    object \n",
            " 6   restecg   920 non-null    object \n",
            " 7   thalach   920 non-null    object \n",
            " 8   exang     920 non-null    object \n",
            " 9   oldpeak   920 non-null    object \n",
            " 10  slope     920 non-null    object \n",
            " 11  ca        920 non-null    object \n",
            " 12  thal      920 non-null    object \n",
            " 13  num       920 non-null    int64  \n",
            "dtypes: float64(3), int64(1), object(10)\n",
            "memory usage: 100.8+ KB\n"
          ]
        }
      ]
    },
    {
      "cell_type": "markdown",
      "source": [
        "Observamos que alguns dos dados do dataset estão como objetos quando deveriam ser valores numéricos. A seguir tranformaremos os atributos que estão como objetos e números."
      ],
      "metadata": {
        "id": "akXoJZmnVpT-"
      }
    },
    {
      "cell_type": "code",
      "source": [
        "# Transforma colunas do tipo objeto para númerico\n",
        "dataset = dataset.apply(pd.to_numeric)\n",
        "dataset.info()"
      ],
      "metadata": {
        "colab": {
          "base_uri": "https://localhost:8080/"
        },
        "id": "nadVx_NFVyC2",
        "outputId": "881a384b-d95f-483f-974f-9412c5686676"
      },
      "execution_count": 142,
      "outputs": [
        {
          "output_type": "stream",
          "name": "stdout",
          "text": [
            "<class 'pandas.core.frame.DataFrame'>\n",
            "RangeIndex: 920 entries, 0 to 919\n",
            "Data columns (total 14 columns):\n",
            " #   Column    Non-Null Count  Dtype  \n",
            "---  ------    --------------  -----  \n",
            " 0   age       920 non-null    float64\n",
            " 1   sex       920 non-null    float64\n",
            " 2   cp        920 non-null    float64\n",
            " 3   trestbps  920 non-null    float64\n",
            " 4   chol      920 non-null    float64\n",
            " 5   fbs       920 non-null    float64\n",
            " 6   restecg   920 non-null    float64\n",
            " 7   thalach   920 non-null    float64\n",
            " 8   exang     920 non-null    float64\n",
            " 9   oldpeak   920 non-null    float64\n",
            " 10  slope     920 non-null    float64\n",
            " 11  ca        920 non-null    float64\n",
            " 12  thal      920 non-null    float64\n",
            " 13  num       920 non-null    int64  \n",
            "dtypes: float64(13), int64(1)\n",
            "memory usage: 100.8 KB\n"
          ]
        }
      ]
    },
    {
      "cell_type": "code",
      "source": [
        "# Mostra a quantidade de pacientes em cada diagnóstico\n",
        "ax=sns.countplot(x=\"num\", data=dataset)"
      ],
      "metadata": {
        "colab": {
          "base_uri": "https://localhost:8080/",
          "height": 619
        },
        "id": "ELVTwRRES738",
        "outputId": "33a1de1c-927f-49c8-e748-7bad83a9e384"
      },
      "execution_count": 152,
      "outputs": [
        {
          "output_type": "display_data",
          "data": {
            "text/plain": [
              "<Figure size 1000x700 with 1 Axes>"
            ],
            "image/png": "[encoded data removed]"
          },
          "metadata": {}
        }
      ]
    },
    {
      "cell_type": "markdown",
      "source": [
        "##**3. Preparação de Dados"
      ],
      "metadata": {
        "id": "xH9zATMqXxA0"
      }
    },
    {
      "cell_type": "markdown",
      "source": [
        "A seguir iniciaremos a preparação dos dados iniciando com a separação do dataset em treino e teste."
      ],
      "metadata": {
        "id": "jr4MTqUJX4Uj"
      }
    },
    {
      "cell_type": "code",
      "source": [
        "# Preparação dos dados\n",
        "\n",
        "# Separação em bases de treino e teste (holdout)\n",
        "array = dataset.values\n",
        "X = array[:,0:13] # atributos\n",
        "y = array[:,13] # classe (target)\n",
        "\n",
        "X_train, X_test, y_train, y_test = train_test_split(X, y, test_size=0.20, random_state=7) # faz a divisão\n",
        "\n",
        "# Criando os folds para a validação cruzada\n",
        "num_particoes = 10 # número de folds da validação cruzada\n",
        "kfold = KFold(n_splits=num_particoes, shuffle=True, random_state=7) # faz o particionamento em 10 folds\n",
        "\n",
        "# Checando as dimensões\n",
        "print(X_train.shape, y_train.shape, X_test.shape, y_test.shape)\n",
        "\n",
        "# Checando tipo do dado\n",
        "print(type(X_train))"
      ],
      "metadata": {
        "colab": {
          "base_uri": "https://localhost:8080/"
        },
        "id": "vI6BzksPzMmb",
        "outputId": "f5e21a10-fdf4-4c27-8f9e-6820bfdac8ea"
      },
      "execution_count": 144,
      "outputs": [
        {
          "output_type": "stream",
          "name": "stdout",
          "text": [
            "(736, 13) (736,) (184, 13) (184,)\n",
            "<class 'numpy.ndarray'>\n"
          ]
        }
      ]
    },
    {
      "cell_type": "markdown",
      "source": [
        "Agora seguiremos para a modelagem onde avaliaremos os modelos a partir das métricas de avaliação MSE e a RMSE. Serão criados os modelos com os seguintes algoritmos:\n",
        "\n",
        "1. Regressão Linear (LR)\n",
        "\n",
        "2. Regressão linear com regularização Ridge (Ridge)\n",
        "\n",
        "3. Regressão linear com regularização Lasso (Lasso)\n",
        "\n",
        "4. K-nearest neighbours (KNN)\n",
        "\n",
        "5. Árvore de regressão (CART)\n",
        "\n",
        "6. Support vector machine (SVM)"
      ],
      "metadata": {
        "id": "DimNC162YtLc"
      }
    },
    {
      "cell_type": "code",
      "source": [
        "# Modelagem\n",
        "\n",
        "# Definindo uma seed global para esta célula de código\n",
        "np.random.seed(7)\n",
        "\n",
        "# Listas para armazenar os modelos, os resultados e os nomes dos modelos\n",
        "models = []\n",
        "results_pre = []\n",
        "names_pre = []\n",
        "\n",
        "# Preparando os modelos e adicionando-os em uma lista\n",
        "models.append(('LR', LinearRegression()))\n",
        "models.append(('Ridge', Ridge()))\n",
        "models.append(('Lasso', Lasso()))\n",
        "models.append(('KNN', KNeighborsRegressor()))\n",
        "models.append(('CART', DecisionTreeRegressor()))\n",
        "models.append(('SVM', SVR()))\n",
        "\n",
        "# Avaliando um modelo por vez\n",
        "for name, model in models:\n",
        "  cv_results = cross_val_score(model, X_train, y_train, cv=kfold, scoring = 'neg_mean_squared_error')\n",
        "  results_pre.append(cv_results)\n",
        "  names_pre.append(name)\n",
        "  # imprime MSE, desvio padrão do MSE e RMSE dos 10 resultados da validação cruzada\n",
        "  msg = \"%s: MSE %0.2f (%0.2f) - RMSE %0.2f\" % (name, abs(cv_results.mean()), cv_results.std(), np.sqrt(abs(cv_results.mean())))\n",
        "  print(msg)\n",
        "\n",
        "# Boxplot de comparação dos modelos\n",
        "fig = plt.figure()\n",
        "fig.suptitle('Comparação do MSE dos Modelos')\n",
        "ax = fig.add_subplot(111)\n",
        "plt.boxplot(results_pre)\n",
        "ax.set_xticklabels(names_pre)\n",
        "plt.show()"
      ],
      "metadata": {
        "colab": {
          "base_uri": "https://localhost:8080/",
          "height": 773
        },
        "id": "qHn-w5jSzZhS",
        "outputId": "37e95fb4-1cfa-48ba-9169-fa0d451655e5"
      },
      "execution_count": 156,
      "outputs": [
        {
          "output_type": "stream",
          "name": "stdout",
          "text": [
            "LR: MSE 0.74 (0.11) - RMSE 0.86\n",
            "Ridge: MSE 0.74 (0.11) - RMSE 0.86\n",
            "Lasso: MSE 1.05 (0.14) - RMSE 1.03\n",
            "KNN: MSE 1.17 (0.22) - RMSE 1.08\n",
            "CART: MSE 1.43 (0.23) - RMSE 1.19\n",
            "SVM: MSE 1.11 (0.15) - RMSE 1.05\n"
          ]
        },
        {
          "output_type": "display_data",
          "data": {
            "text/plain": [
              "<Figure size 1000x700 with 1 Axes>"
            ],
            "image/png": "[encoded data removed]"
          },
          "metadata": {}
        }
      ]
    },
    {
      "cell_type": "markdown",
      "source": [
        "Analisando os resultados dos modelos verificamos que os algoritmos de regressão linear e regressão linear com regularização ridge apresentaram os melhores resultados."
      ],
      "metadata": {
        "id": "QxL5mavpd1dm"
      }
    },
    {
      "cell_type": "code",
      "source": [
        "np.random.seed(7) # definindo uma semente global para este bloco\n",
        "\n",
        "# Listas para armazenar os armazenar os pipelines e os resultados para todas as visões do dataset\n",
        "models = []\n",
        "results = []\n",
        "names = []\n",
        "pipelines = []\n",
        "\n",
        "# Preparando os modelos e adicionando-os em uma lista\n",
        "models.append(('LR', LinearRegression()))\n",
        "models.append(('KNN', KNeighborsClassifier()))\n",
        "models.append(('CART', DecisionTreeClassifier()))\n",
        "models.append(('SVM', SVR()))\n",
        "models.append(('NB', GaussianNB()))\n",
        "\n",
        "# Criando os elementos do pipeline\n",
        "\n",
        "# Algoritmos que serão utilizados\n",
        "lr = ('LR', LinearRegression())\n",
        "knn = ('KNN', KNeighborsClassifier())\n",
        "cart = ('CART', DecisionTreeClassifier())\n",
        "svm = ('SVM', SVR())\n",
        "naive_bayes = ('NB', GaussianNB())\n",
        "\n",
        "# Transformações que serão utilizadas\n",
        "standard_scaler = ('StandardScaler', StandardScaler())\n",
        "min_max_scaler = ('MinMaxScaler', MinMaxScaler())\n",
        "\n",
        "# Montando os pipelines\n",
        "\n",
        "# Dataset original\n",
        "pipelines.append(('LR-orig', Pipeline([lr])))\n",
        "pipelines.append(('KNN-orig', Pipeline([knn])))\n",
        "pipelines.append(('CART-orig', Pipeline([cart])))\n",
        "pipelines.append(('NB-orig', Pipeline([naive_bayes])))\n",
        "pipelines.append(('SVM-orig', Pipeline([svm])))\n",
        "\n",
        "# Dataset Padronizado\n",
        "pipelines.append(('LR-padr', Pipeline([standard_scaler, lr])))\n",
        "pipelines.append(('KNN-padr', Pipeline([standard_scaler, knn])))\n",
        "pipelines.append(('CART-padr', Pipeline([standard_scaler, cart])))\n",
        "pipelines.append(('NB-padr', Pipeline([standard_scaler, naive_bayes])))\n",
        "pipelines.append(('SVM-padr', Pipeline([standard_scaler, svm])))\n",
        "\n",
        "# Dataset Normalizado\n",
        "pipelines.append(('LR-norm', Pipeline([min_max_scaler, lr])))\n",
        "pipelines.append(('KNN-norm', Pipeline([min_max_scaler, knn])))\n",
        "pipelines.append(('CART-norm', Pipeline([min_max_scaler, cart])))\n",
        "pipelines.append(('NB-norm', Pipeline([min_max_scaler, naive_bayes])))\n",
        "pipelines.append(('SVM-norm', Pipeline([min_max_scaler, svm])))\n",
        "\n",
        "# Executando os pipelines\n",
        "for name, model in pipelines:\n",
        "  cv_results = cross_val_score (model, X_train, y_train, cv=kfold, scoring = 'neg_mean_squared_error')\n",
        "  results.append(cv_results)\n",
        "  names.append(name)\n",
        "  # imprime MSE, desvio padrão do MSE e RMSE dos 10 resultados da validação cruzada\n",
        "  msg = \"%s: MSE %0.2f (%0.2f) - RMSE %0.2f\" % (name, abs(cv_results.mean()), cv_results.std(), np.sqrt(abs(cv_results.mean())))\n",
        "  print(msg)\n",
        "\n",
        "# Boxplot de comparação dos modelos\n",
        "fig = plt.figure(figsize=(25,6))\n",
        "fig.suptitle('Comparação dos Modelos - Dataset orginal, padronizado e normalizado')\n",
        "ax = fig.add_subplot(111)\n",
        "plt.boxplot(results)\n",
        "ax.set_xticklabels(names, rotation=90)\n",
        "plt.show()"
      ],
      "metadata": {
        "colab": {
          "base_uri": "https://localhost:8080/",
          "height": 626
        },
        "id": "RkW99gbr5N61",
        "outputId": "31d2cb5f-32ce-4fb7-df6b-a58edcc680da"
      },
      "execution_count": 157,
      "outputs": [
        {
          "output_type": "stream",
          "name": "stdout",
          "text": [
            "LR-orig: MSE 0.74 (0.11) - RMSE 0.86\n",
            "KNN-orig: MSE 1.54 (0.28) - RMSE 1.24\n",
            "CART-orig: MSE 1.39 (0.24) - RMSE 1.18\n",
            "NB-orig: MSE 1.23 (0.19) - RMSE 1.11\n",
            "SVM-orig: MSE 1.11 (0.15) - RMSE 1.05\n",
            "LR-padr: MSE 0.74 (0.11) - RMSE 0.86\n",
            "KNN-padr: MSE 1.11 (0.21) - RMSE 1.06\n",
            "CART-padr: MSE 1.45 (0.32) - RMSE 1.20\n",
            "NB-padr: MSE 1.23 (0.19) - RMSE 1.11\n",
            "SVM-padr: MSE 0.75 (0.14) - RMSE 0.86\n",
            "LR-norm: MSE 0.74 (0.11) - RMSE 0.86\n",
            "KNN-norm: MSE 1.18 (0.21) - RMSE 1.09\n",
            "CART-norm: MSE 1.42 (0.26) - RMSE 1.19\n",
            "NB-norm: MSE 1.23 (0.19) - RMSE 1.11\n",
            "SVM-norm: MSE 0.76 (0.12) - RMSE 0.87\n"
          ]
        },
        {
          "output_type": "display_data",
          "data": {
            "text/plain": [
              "<Figure size 2500x600 with 1 Axes>"
            ],
            "image/png": "[encoded data removed]"
          },
          "metadata": {}
        }
      ]
    }
  ]
}